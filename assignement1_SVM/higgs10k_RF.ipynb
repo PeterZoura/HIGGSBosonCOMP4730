{
 "cells": [
  {
   "cell_type": "code",
   "execution_count": 1,
   "id": "3884701a",
   "metadata": {},
   "outputs": [
    {
     "name": "stdout",
     "output_type": "stream",
     "text": [
      "Random Forest 10-Fold Cross-Validation Accuracy: 0.6958\n",
      "Random Forest 10-Fold Cross-Validation Recall: 0.7193039500159154\n",
      "Random Forest 10-Fold Cross-Validation AUC: 0.7662082925510825\n"
     ]
    }
   ],
   "source": [
    "import numpy as np\n",
    "import pandas as pd\n",
    "from sklearn.model_selection import KFold\n",
    "from sklearn.ensemble import RandomForestClassifier\n",
    "from sklearn.metrics import accuracy_score, recall_score, roc_auc_score\n",
    "\n",
    "# Load and preprocess your dataset (assuming you've loaded the dataset with skipped column names)\n",
    "data = pd.read_csv(r'C:\\Users\\grguo\\Dropbox\\000000000000000learning\\COMP4730\\Assignment 1\\higgs10k.csv', header=None, skiprows=1)\n",
    "\n",
    "# Define the number of folds for cross-validation\n",
    "num_folds = 10\n",
    "\n",
    "# Extract the label and features from the dataset\n",
    "X = data.iloc[:, 1:]  # Features: All columns except the first\n",
    "y = data.iloc[:, 0]   # Label: First column\n",
    "\n",
    "# Create a K-Fold cross-validation object\n",
    "kf = KFold(n_splits=num_folds, shuffle=True, random_state=42)\n",
    "\n",
    "# Initialize a Random Forest classifier\n",
    "rf = RandomForestClassifier()\n",
    "\n",
    "# Initialize variables to store metrics\n",
    "cross_val_accuracies = []\n",
    "cross_val_recalls = []\n",
    "cross_val_aucs = []\n",
    "\n",
    "# Perform 10-fold cross-validation\n",
    "for train_index, test_index in kf.split(X):\n",
    "    X_train, X_test = X.iloc[train_index], X.iloc[test_index]\n",
    "    y_train, y_test = y.iloc[train_index], y.iloc[test_index]\n",
    "\n",
    "    # Fit the Random Forest model on the training data\n",
    "    rf.fit(X_train, y_train)\n",
    "\n",
    "    # Predict on the test data\n",
    "    y_pred = rf.predict(X_test)\n",
    "\n",
    "    # Calculate accuracy\n",
    "    accuracy = accuracy_score(y_test, y_pred)\n",
    "    cross_val_accuracies.append(accuracy)\n",
    "\n",
    "    # Calculate recall if there are positive samples in the test set\n",
    "    if 1 in y_test.unique():\n",
    "        recall = recall_score(y_test, y_pred)\n",
    "        cross_val_recalls.append(recall)\n",
    "\n",
    "    # Calculate AUC if the model has a predict_proba method\n",
    "    if hasattr(rf, 'predict_proba'):\n",
    "        y_prob = rf.predict_proba(X_test)[:, 1]\n",
    "        auc = roc_auc_score(y_test, y_prob)\n",
    "        cross_val_aucs.append(auc)\n",
    "\n",
    "# Calculate the average metrics\n",
    "average_accuracy = np.mean(cross_val_accuracies)\n",
    "average_recall = np.nan if len(cross_val_recalls) == 0 else np.mean(cross_val_recalls)\n",
    "average_auc = np.nan if len(cross_val_aucs) == 0 else np.mean(cross_val_aucs)\n",
    "\n",
    "# Print the results\n",
    "print(\"Random Forest 10-Fold Cross-Validation Accuracy:\", average_accuracy)\n",
    "print(\"Random Forest 10-Fold Cross-Validation Recall:\", average_recall)\n",
    "if not np.isnan(average_auc):\n",
    "    print(\"Random Forest 10-Fold Cross-Validation AUC:\", average_auc)\n"
   ]
  },
  {
   "cell_type": "code",
   "execution_count": null,
   "id": "47616dff",
   "metadata": {},
   "outputs": [],
   "source": []
  }
 ],
 "metadata": {
  "kernelspec": {
   "display_name": "Python 3 (ipykernel)",
   "language": "python",
   "name": "python3"
  },
  "language_info": {
   "codemirror_mode": {
    "name": "ipython",
    "version": 3
   },
   "file_extension": ".py",
   "mimetype": "text/x-python",
   "name": "python",
   "nbconvert_exporter": "python",
   "pygments_lexer": "ipython3",
   "version": "3.11.3"
  }
 },
 "nbformat": 4,
 "nbformat_minor": 5
}
