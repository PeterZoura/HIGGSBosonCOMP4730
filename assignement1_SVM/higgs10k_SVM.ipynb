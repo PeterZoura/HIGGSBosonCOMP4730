{
 "cells": [
  {
   "cell_type": "code",
   "execution_count": 1,
   "id": "03d86eac",
   "metadata": {},
   "outputs": [
    {
     "name": "stdout",
     "output_type": "stream",
     "text": [
      "Average Accuracy: 0.65\n",
      "Average Recall: 0.7886219318520691\n",
      "Average AUC: 0.6835902695948125\n",
      "Best Hyperparameters: {'C': 10, 'kernel': 'linear'}\n"
     ]
    }
   ],
   "source": [
    "# Import necessary libraries\n",
    "import numpy as np\n",
    "import pandas as pd\n",
    "from sklearn.model_selection import train_test_split, GridSearchCV, KFold\n",
    "from sklearn.svm import SVC\n",
    "from sklearn.metrics import accuracy_score, classification_report, recall_score, roc_auc_score\n",
    "\n",
    "# Load the Higgs dataset (replace 'higgs.csv.gz' with your dataset file)\n",
    "data = pd.read_csv(r'C:\\Users\\grguo\\Dropbox\\000000000000000learning\\COMP4730\\Assignment 1\\higgs10k.csv', skiprows=1, header=None)\n",
    "\n",
    "# Extract the label and features from the dataset\n",
    "X = data.iloc[:, 1:]  # Features: All columns except the first\n",
    "y = data.iloc[:, 0]   # Label: First column\n",
    "\n",
    "# Set up 10-fold cross-validation\n",
    "kf = KFold(n_splits=10, shuffle=True, random_state=42)\n",
    "\n",
    "# Define a range of hyperparameters to search\n",
    "param_grid = {\n",
    "    'C': [0.1, 1, 10],\n",
    "    'kernel': ['linear', 'rbf', 'poly']  \n",
    "}\n",
    "\n",
    "# Initialize the SVM classifier\n",
    "svm = SVC(random_state=42)\n",
    "\n",
    "# Create a GridSearchCV instance to search for the best hyperparameters\n",
    "grid_search = GridSearchCV(estimator=svm, param_grid=param_grid, cv=kf, scoring='accuracy')\n",
    "\n",
    "# Lists to store accuracy, recall, and AUC for each fold\n",
    "accuracies = []\n",
    "recalls = []\n",
    "auc_scores = []\n",
    "\n",
    "# Perform 10-fold cross-validation with hyperparameter tuning\n",
    "for train_index, test_index in kf.split(X):\n",
    "    X_train, X_test = X.iloc[train_index], X.iloc[test_index]\n",
    "    y_train, y_test = y.iloc[train_index], y.iloc[test_index]\n",
    "    \n",
    "    # Perform hyperparameter tuning using GridSearchCV on the training data\n",
    "    grid_search.fit(X_train, y_train)\n",
    "    \n",
    "    # Get the best model with tuned hyperparameters\n",
    "    best_svm = grid_search.best_estimator_\n",
    "    \n",
    "    # Calculate predicted probability scores for AUC calculation\n",
    "    y_scores = best_svm.decision_function(X_test)\n",
    "    \n",
    "    # Make predictions on the test data\n",
    "    y_pred = best_svm.predict(X_test)\n",
    "    \n",
    "    # Calculate accuracy, recall, and AUC for this fold\n",
    "    accuracy = accuracy_score(y_test, y_pred)\n",
    "    recall = recall_score(y_test, y_pred)\n",
    "    auc = roc_auc_score(y_test, y_scores)  # Use probability scores\n",
    "    \n",
    "    # Append accuracy, recall, and AUC to the respective lists\n",
    "    accuracies.append(accuracy)\n",
    "    recalls.append(recall)\n",
    "    auc_scores.append(auc)\n",
    "\n",
    "# Print average accuracy, recall, and AUC across all folds\n",
    "print(\"Average Accuracy:\", np.mean(accuracies))\n",
    "print(\"Average Recall:\", np.mean(recalls))\n",
    "print(\"Average AUC:\", np.mean(auc_scores))\n",
    "\n",
    "# Print the best hyperparameters found by GridSearchCV\n",
    "print(\"Best Hyperparameters:\", grid_search.best_params_)\n"
   ]
  },
  {
   "cell_type": "code",
   "execution_count": null,
   "id": "4d041c11",
   "metadata": {},
   "outputs": [],
   "source": []
  }
 ],
 "metadata": {
  "kernelspec": {
   "display_name": "Python 3 (ipykernel)",
   "language": "python",
   "name": "python3"
  },
  "language_info": {
   "codemirror_mode": {
    "name": "ipython",
    "version": 3
   },
   "file_extension": ".py",
   "mimetype": "text/x-python",
   "name": "python",
   "nbconvert_exporter": "python",
   "pygments_lexer": "ipython3",
   "version": "3.11.3"
  }
 },
 "nbformat": 4,
 "nbformat_minor": 5
}
