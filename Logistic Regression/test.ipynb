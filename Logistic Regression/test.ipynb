{
 "cells": [
  {
   "cell_type": "code",
   "execution_count": 12,
   "metadata": {},
   "outputs": [],
   "source": [
    "import pandas as pd\n",
    "import numpy as np\n",
    "from sklearn import preprocessing\n",
    "import matplotlib.pyplot as plt \n",
    "\n",
    "from sklearn.linear_model import LogisticRegression\n",
    "from sklearn.model_selection import train_test_split\n",
    "from sklearn import metrics"
   ]
  },
  {
   "cell_type": "code",
   "execution_count": 13,
   "metadata": {},
   "outputs": [],
   "source": [
    "data = pd.read_csv(r'D:\\Projects\\HIGGSBosonCOMP4730\\Dataset\\higgs2.csv', names=['lepton-pT', 'lepton-eta', 'lepton-phi', 'missing-energy-magnitude', 'missing-energy-phi', 'jet-1-pt', 'jet-1-eta', 'jet-1-phi', 'jet-1-b-tag', 'jet-2-pt', 'jet-2-eta', 'jet-2-phi', 'jet-2-b-tag', 'jet-3-pt', 'jet-3-eta', 'jet-3-phi', 'jet-3-b-tag', 'jet-4-pt', 'jet-4-eta', 'jet-4-phi', 'jet-4-b-tag', 'm_jj', 'm_jjj', 'm_lv', 'm_jlv', 'm_bb', 'm_wbb', 'm_wwbb'])\n",
    "\n",
    "# data2 = pd.read_csv('higgs\\HIGGS.csv')"
   ]
  },
  {
   "cell_type": "code",
   "execution_count": 14,
   "metadata": {},
   "outputs": [
    {
     "name": "stdout",
     "output_type": "stream",
     "text": [
      "     lepton-pT  lepton-eta  lepton-phi  missing-energy-magnitude  \\\n",
      "1.0   0.748873   -0.874678   -1.194860                  0.766419   \n",
      "0.0   1.630977    0.634973   -0.305970                  0.215144   \n",
      "1.0   0.299586    1.489144    0.709529                  1.582114   \n",
      "1.0   0.455144   -0.117904    1.524621                  0.991996   \n",
      "1.0   0.540243   -0.597097   -0.997884                  0.668254   \n",
      "\n",
      "     missing-energy-phi  jet-1-pt  jet-1-eta  jet-1-phi  jet-1-b-tag  \\\n",
      "1.0           -0.553490  0.394003   1.605137   0.657096     0.000000   \n",
      "0.0           -0.452114  0.550285   0.697096  -1.597100     2.173076   \n",
      "1.0           -1.352004  0.734232  -0.526828  -0.915218     2.173076   \n",
      "1.0           -0.172513  2.414858  -1.634895  -1.567163     0.000000   \n",
      "1.0            0.995326  0.583172  -0.925890   0.781276     0.000000   \n",
      "\n",
      "     jet-2-pt  ...  jet-4-eta  jet-4-phi  jet-4-b-tag      m_jj     m_jjj  \\\n",
      "1.0  0.878681  ...  -1.674435   0.156879     0.000000  0.815718  1.086726   \n",
      "0.0  0.519981  ...  -0.483498   0.347214     3.101961  0.891039  1.010851   \n",
      "1.0  1.003954  ...   0.513391  -0.156194     3.101961  0.801086  0.840556   \n",
      "1.0  2.366104  ...  -0.092071   0.211815     0.000000  0.773106  0.937234   \n",
      "1.0  1.035305  ...  -2.221600   0.083630     0.000000  1.079204  1.113606   \n",
      "\n",
      "         m_lv     m_jlv      m_bb     m_wbb    m_wwbb  \n",
      "1.0  0.982625  0.899206  0.883548  0.895692  1.079946  \n",
      "0.0  1.000828  0.976172  1.038880  0.830898  0.928035  \n",
      "1.0  0.989608  0.936557  0.790547  1.232777  1.026098  \n",
      "1.0  0.984253  0.675838  1.881146  1.067955  0.848495  \n",
      "1.0  0.986507  1.033303  0.912932  0.866989  0.857450  \n",
      "\n",
      "[5 rows x 28 columns]\n"
     ]
    }
   ],
   "source": [
    "print(data.head())"
   ]
  },
  {
   "cell_type": "code",
   "execution_count": 22,
   "metadata": {},
   "outputs": [
    {
     "name": "stderr",
     "output_type": "stream",
     "text": [
      "C:\\Users\\ddaga\\AppData\\Local\\Packages\\PythonSoftwareFoundation.Python.3.10_qbz5n2kfra8p0\\LocalCache\\local-packages\\Python310\\site-packages\\sklearn\\preprocessing\\_label.py:116: DataConversionWarning: A column-vector y was passed when a 1d array was expected. Please change the shape of y to (n_samples, ), for example using ravel().\n",
      "  y = column_or_1d(y, warn=True)\n"
     ]
    },
    {
     "name": "stdout",
     "output_type": "stream",
     "text": [
      "Accuracy of LR on test data: 0.00\n"
     ]
    }
   ],
   "source": [
    "X = data.iloc[:, 0].values.reshape(-1, 1)\n",
    "y = data.iloc[:, 0].values.reshape(-1, 1)\n",
    "\n",
    "y_encode = preprocessing.LabelEncoder()\n",
    "y_transformed = y_encode.fit_transform(y)\n",
    "\n",
    "X_train, X_test, y_train, y_test = train_test_split(X, y_transformed, test_size= 0.3, random_state= 0)\n",
    "\n",
    "lr = LogisticRegression()\n",
    "lr.fit(X_train, y_train)\n",
    "\n",
    "y_pred = lr.predict(X_test)\n",
    "print('Accuracy of LR on test data: {:.2f}'.format(lr.score(X_test, y_test)))"
   ]
  },
  {
   "cell_type": "code",
   "execution_count": 21,
   "metadata": {},
   "outputs": [
    {
     "name": "stdout",
     "output_type": "stream",
     "text": [
      "[[0 0 0 ... 0 0 0]\n",
      " [0 0 0 ... 0 0 0]\n",
      " [0 0 0 ... 0 0 0]\n",
      " ...\n",
      " [0 0 0 ... 0 0 1]\n",
      " [0 0 0 ... 0 0 1]\n",
      " [0 0 0 ... 0 0 0]]\n"
     ]
    }
   ],
   "source": [
    "from sklearn.metrics import confusion_matrix\n",
    "confusion_matrix = confusion_matrix(y_test, y_pred)\n",
    "print(confusion_matrix)"
   ]
  }
 ],
 "metadata": {
  "kernelspec": {
   "display_name": "Python 3.11.1 64-bit",
   "language": "python",
   "name": "python3"
  },
  "language_info": {
   "codemirror_mode": {
    "name": "ipython",
    "version": 3
   },
   "file_extension": ".py",
   "mimetype": "text/x-python",
   "name": "python",
   "nbconvert_exporter": "python",
   "pygments_lexer": "ipython3",
   "version": "3.11.1"
  },
  "orig_nbformat": 4,
  "vscode": {
   "interpreter": {
    "hash": "3f492242ce55866c77117610ce8634fd961933514cea6a33a2864cadc41adb8c"
   }
  }
 },
 "nbformat": 4,
 "nbformat_minor": 2
}
