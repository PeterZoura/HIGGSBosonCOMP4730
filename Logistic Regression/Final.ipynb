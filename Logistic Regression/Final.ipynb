{
 "cells": [
  {
   "cell_type": "code",
   "execution_count": 33,
   "metadata": {},
   "outputs": [],
   "source": [
    "import pandas as pd\n",
    "import matplotlib.pyplot as plt \n",
    "from numpy import mean\n",
    "from numpy import std\n",
    "\n",
    "from sklearn.linear_model import LogisticRegression\n",
    "from sklearn.linear_model import SGDClassifier\n",
    "from sklearn.model_selection import train_test_split\n",
    "from sklearn import metrics\n",
    "from sklearn.model_selection import KFold\n",
    "from sklearn.model_selection import cross_val_score \n",
    "from sklearn.metrics import confusion_matrix, ConfusionMatrixDisplay"
   ]
  },
  {
   "cell_type": "code",
   "execution_count": 2,
   "metadata": {},
   "outputs": [],
   "source": [
    "data10 = pd.read_csv(r'D:\\Projects\\HIGGSBosonCOMP4730\\Dataset\\higgs10k.csv')"
   ]
  },
  {
   "cell_type": "code",
   "execution_count": 3,
   "metadata": {},
   "outputs": [],
   "source": [
    "X21 = data10.iloc[:, 1:22]\n",
    "y21 = data10.iloc[:, 0]\n",
    "\n",
    "X_train21, X_test21, y_train21, y_test21 = train_test_split(X21, y21, test_size= 0.3, random_state= 0)"
   ]
  },
  {
   "cell_type": "code",
   "execution_count": 4,
   "metadata": {},
   "outputs": [],
   "source": [
    "X8 = data10.iloc[:, 22:]\n",
    "y8 = data10.iloc[:, 0]\n",
    "\n",
    "X_train8, X_test8, y_train8, y_test8 = train_test_split(X8, y8, test_size= 0.3, random_state= 0)"
   ]
  },
  {
   "cell_type": "code",
   "execution_count": 5,
   "metadata": {},
   "outputs": [],
   "source": [
    "cross = KFold(n_splits=10, random_state= 1, shuffle= True)"
   ]
  },
  {
   "cell_type": "code",
   "execution_count": 6,
   "metadata": {},
   "outputs": [],
   "source": [
    "lr_combinations = {\n",
    "    'l1 with liblinear': {'penalty': 'l1', 'solver': 'liblinear'},\n",
    "    'l2 with newton-cg': {'penalty': 'l2', 'solver': 'newton-cg'},\n",
    "    'l2 with lbfgs': {'penalty': 'l2', 'solver': 'lbfgs'},\n",
    "    'l2 with sag': {'penalty': 'l2', 'solver': 'sag'},\n",
    "    # 'L1 and L2 with saga': {'penalty': 'elasticnet', 'solver': 'saga'},\n",
    "}"
   ]
  },
  {
   "cell_type": "code",
   "execution_count": 7,
   "metadata": {},
   "outputs": [
    {
     "name": "stdout",
     "output_type": "stream",
     "text": [
      "l1 with liblinear --- Accuracy with 10 fold cross validation: 0.560 (0.008)\n",
      "l2 with newton-cg --- Accuracy with 10 fold cross validation: 0.561 (0.008)\n",
      "l2 with lbfgs --- Accuracy with 10 fold cross validation: 0.561 (0.008)\n",
      "l2 with sag --- Accuracy with 10 fold cross validation: 0.561 (0.008)\n"
     ]
    }
   ],
   "source": [
    "i = 1\n",
    "\n",
    "for key, values in lr_combinations.items():\n",
    "    exec(f\"lr{i} = LogisticRegression(penalty = '{values['penalty']}', solver= '{values['solver']}')\")\n",
    "    exec(f\"lr{i}.fit(X_train21, y_train21)\")\n",
    "    exec(f\"y_pred{i} = lr{i}.predict(X_test21)\")\n",
    "    exec(f\"scores{i} = cross_val_score(lr{i}, X21, y21, scoring= 'accuracy', cv= cross, n_jobs= -1)\")\n",
    "    exec(f\"print('{key} --- Accuracy with 10 fold cross validation: %.3f (%.3f)' % (mean(scores{i}), std(scores{i})))\")\n",
    "    values['score']= exec(f'mean(scores{i})')\n",
    "    i+= 1"
   ]
  },
  {
   "cell_type": "code",
   "execution_count": 8,
   "metadata": {},
   "outputs": [
    {
     "name": "stdout",
     "output_type": "stream",
     "text": [
      "l1 with liblinear --- Accuracy with 10 fold cross validation: 0.629 (0.017)\n",
      "l2 with newton-cg --- Accuracy with 10 fold cross validation: 0.630 (0.017)\n",
      "l2 with lbfgs --- Accuracy with 10 fold cross validation: 0.630 (0.017)\n",
      "l2 with sag --- Accuracy with 10 fold cross validation: 0.630 (0.017)\n"
     ]
    }
   ],
   "source": [
    "for key, values in lr_combinations.items():\n",
    "    exec(f\"lr{i} = LogisticRegression(penalty = '{values['penalty']}', solver= '{values['solver']}')\")\n",
    "    exec(f\"lr{i}.fit(X_train8, y_train8)\")\n",
    "    exec(f\"y_pred{i} = lr{i}.predict(X_test8)\")\n",
    "    exec(f\"scores{i} = cross_val_score(lr{i}, X8, y8, scoring= 'accuracy', cv= cross, n_jobs= -1)\")\n",
    "    exec(f\"print('{key} --- Accuracy with 10 fold cross validation: %.3f (%.3f)' % (mean(scores{i}), std(scores{i})))\")\n",
    "    values['score']= exec(f'mean(scores{i})')\n",
    "    i+= 1"
   ]
  },
  {
   "cell_type": "code",
   "execution_count": 9,
   "metadata": {},
   "outputs": [],
   "source": [
    "sgd_combinations = {\n",
    "    'hinge_with_l2': {\n",
    "        'loss': 'hinge',\n",
    "        'penalty': 'l2'\n",
    "    },\n",
    "    'hinge_with_l1': {\n",
    "        'loss': 'hinge',\n",
    "        'penalty': 'l1'\n",
    "    },\n",
    "    'hinge_with_elasticnet': {\n",
    "        'loss': 'hinge',\n",
    "        'penalty': 'elasticnet'\n",
    "    },\n",
    "    # 'log_with_l2': {\n",
    "    #     'loss': 'log',\n",
    "    #     'penalty': 'l2'\n",
    "    # },\n",
    "    # 'log_with_l1': {\n",
    "    #     'loss': 'log',\n",
    "    #     'penalty': 'l1'\n",
    "    # },\n",
    "    'log_with_elasticnet': {\n",
    "        'loss': 'log',\n",
    "        'penalty': 'elasticnet'\n",
    "    },\n",
    "    # 'modified_huber_with_l2': {\n",
    "    #     'loss': 'modified_huber',\n",
    "    #     'penalty': 'l2'\n",
    "    # },\n",
    "    # 'modified_huber_with_l1': {\n",
    "    #     'loss': 'modified_huber',\n",
    "    #     'penalty': 'l1'\n",
    "    # },\n",
    "    # 'modified_huber_with_elasticnet': {\n",
    "    #     'loss': 'modified_huber',\n",
    "    #     'penalty': 'elasticnet'\n",
    "    # }\n",
    "}"
   ]
  },
  {
   "cell_type": "code",
   "execution_count": 10,
   "metadata": {},
   "outputs": [
    {
     "name": "stdout",
     "output_type": "stream",
     "text": [
      "hinge_with_l2 --- Accuracy with 10 fold cross validation: 0.541 (0.019)\n",
      "hinge_with_l1 --- Accuracy with 10 fold cross validation: 0.533 (0.014)\n",
      "hinge_with_elasticnet --- Accuracy with 10 fold cross validation: 0.539 (0.018)\n"
     ]
    },
    {
     "name": "stderr",
     "output_type": "stream",
     "text": [
      "C:\\Users\\ddaga\\AppData\\Local\\Packages\\PythonSoftwareFoundation.Python.3.10_qbz5n2kfra8p0\\LocalCache\\local-packages\\Python310\\site-packages\\sklearn\\linear_model\\_stochastic_gradient.py:163: FutureWarning: The loss 'log' was deprecated in v1.1 and will be removed in version 1.3. Use `loss='log_loss'` which is equivalent.\n",
      "  warnings.warn(\n"
     ]
    },
    {
     "name": "stdout",
     "output_type": "stream",
     "text": [
      "log_with_elasticnet --- Accuracy with 10 fold cross validation: 0.544 (0.017)\n"
     ]
    }
   ],
   "source": [
    "i = 1\n",
    "\n",
    "for key, values in sgd_combinations.items():\n",
    "    exec(f\"sgd{i} = SGDClassifier(penalty = '{values['penalty']}', loss= '{values['loss']}')\")\n",
    "    exec(f\"sgd{i}.fit(X_train21, y_train21)\")\n",
    "    exec(f\"y_pred{i} = sgd{i}.predict(X_test21)\")\n",
    "    exec(f\"scores{i} = cross_val_score(sgd{i}, X21, y21, scoring= 'accuracy', cv= cross, n_jobs= -1)\")\n",
    "    exec(f\"print('{key} --- Accuracy with 10 fold cross validation: %.3f (%.3f)' % (mean(scores{i}), std(scores{i})))\")\n",
    "    values['score']= exec(f'mean(scores{i})')\n",
    "    i+= 1"
   ]
  },
  {
   "cell_type": "code",
   "execution_count": 20,
   "metadata": {},
   "outputs": [
    {
     "ename": "NameError",
     "evalue": "name 'scores9' is not defined",
     "output_type": "error",
     "traceback": [
      "\u001b[1;31m---------------------------------------------------------------------------\u001b[0m",
      "\u001b[1;31mNameError\u001b[0m                                 Traceback (most recent call last)",
      "\u001b[1;32md:\\Projects\\HIGGSBosonCOMP4730\\Logistic Regression\\Final.ipynb Cell 11\u001b[0m line \u001b[0;36m8\n\u001b[0;32m      <a href='vscode-notebook-cell:/d%3A/Projects/HIGGSBosonCOMP4730/Logistic%20Regression/Final.ipynb#X13sZmlsZQ%3D%3D?line=3'>4</a>\u001b[0m exec(\u001b[39mf\u001b[39m\u001b[39m\"\u001b[39m\u001b[39my_pred\u001b[39m\u001b[39m{\u001b[39;00mi\u001b[39m}\u001b[39;00m\u001b[39m = sgd\u001b[39m\u001b[39m{\u001b[39;00mi\u001b[39m}\u001b[39;00m\u001b[39m.predict(X_test8)\u001b[39m\u001b[39m\"\u001b[39m)\n\u001b[0;32m      <a href='vscode-notebook-cell:/d%3A/Projects/HIGGSBosonCOMP4730/Logistic%20Regression/Final.ipynb#X13sZmlsZQ%3D%3D?line=4'>5</a>\u001b[0m \u001b[39m# scores = cross_val_score(f'sgd{i}', X8, y8, scoring='accuracy', cv=cross, n_jobs=-1)\u001b[39;00m\n\u001b[0;32m      <a href='vscode-notebook-cell:/d%3A/Projects/HIGGSBosonCOMP4730/Logistic%20Regression/Final.ipynb#X13sZmlsZQ%3D%3D?line=5'>6</a>\u001b[0m \u001b[39m# mean_score = scores.mean()\u001b[39;00m\n\u001b[0;32m      <a href='vscode-notebook-cell:/d%3A/Projects/HIGGSBosonCOMP4730/Logistic%20Regression/Final.ipynb#X13sZmlsZQ%3D%3D?line=6'>7</a>\u001b[0m \u001b[39m# exec(f\"scores{i} = cross_val_score(sgd{i}, X8, y8, scoring= 'accuracy', cv= cross, n_jobs= -1)\")\u001b[39;00m\n\u001b[1;32m----> <a href='vscode-notebook-cell:/d%3A/Projects/HIGGSBosonCOMP4730/Logistic%20Regression/Final.ipynb#X13sZmlsZQ%3D%3D?line=7'>8</a>\u001b[0m exec(\u001b[39mf\u001b[39;49m\u001b[39m\"\u001b[39;49m\u001b[39mprint(\u001b[39;49m\u001b[39m'\u001b[39;49m\u001b[39msgd\u001b[39;49m\u001b[39m{\u001b[39;49;00mi\u001b[39m}\u001b[39;49;00m\u001b[39m: \u001b[39;49m\u001b[39m{\u001b[39;49;00mkey\u001b[39m}\u001b[39;49;00m\u001b[39m --- Accuracy with 10 fold cross validation: %.3f (%.3f)\u001b[39;49m\u001b[39m'\u001b[39;49m\u001b[39m % (mean(scores\u001b[39;49m\u001b[39m{\u001b[39;49;00mi\u001b[39m}\u001b[39;49;00m\u001b[39m), std(scores\u001b[39;49m\u001b[39m{\u001b[39;49;00mi\u001b[39m}\u001b[39;49;00m\u001b[39m)))\u001b[39;49m\u001b[39m\"\u001b[39;49m)\n\u001b[0;32m      <a href='vscode-notebook-cell:/d%3A/Projects/HIGGSBosonCOMP4730/Logistic%20Regression/Final.ipynb#X13sZmlsZQ%3D%3D?line=8'>9</a>\u001b[0m values[\u001b[39m'\u001b[39m\u001b[39mscore\u001b[39m\u001b[39m'\u001b[39m]\u001b[39m=\u001b[39m exec(\u001b[39mf\u001b[39m\u001b[39m'\u001b[39m\u001b[39mmean(scores\u001b[39m\u001b[39m{\u001b[39;00mi\u001b[39m}\u001b[39;00m\u001b[39m)\u001b[39m\u001b[39m'\u001b[39m)\n\u001b[0;32m     <a href='vscode-notebook-cell:/d%3A/Projects/HIGGSBosonCOMP4730/Logistic%20Regression/Final.ipynb#X13sZmlsZQ%3D%3D?line=9'>10</a>\u001b[0m i\u001b[39m+\u001b[39m\u001b[39m=\u001b[39m \u001b[39m1\u001b[39m\n",
      "File \u001b[1;32m<string>:1\u001b[0m\n",
      "\u001b[1;31mNameError\u001b[0m: name 'scores9' is not defined"
     ]
    }
   ],
   "source": [
    "for key, values in sgd_combinations.items():\n",
    "    exec(f\"sgd{i} = SGDClassifier(penalty = '{values['penalty']}', loss= '{values['loss']}')\")\n",
    "    exec(f\"sgd{i}.fit(X_train8, y_train8)\")\n",
    "    exec(f\"y_pred{i} = sgd{i}.predict(X_test8)\")\n",
    "    # scores = cross_val_score(f'sgd{i}', X8, y8, scoring='accuracy', cv=cross, n_jobs=-1)\n",
    "    # mean_score = scores.mean()\n",
    "    # exec(f\"scores{i} = cross_val_score(sgd{i}, X8, y8, scoring= 'accuracy', cv= cross, n_jobs= -1)\")\n",
    "    exec(f\"print('sgd{i}: {key} --- Accuracy with 10 fold cross validation: %.3f (%.3f)' % (mean(scores{i}), std(scores{i})))\")\n",
    "    values['score']= exec(f'mean(scores{i})')\n",
    "    i+= 1"
   ]
  },
  {
   "cell_type": "code",
   "execution_count": null,
   "metadata": {},
   "outputs": [
    {
     "name": "stdout",
     "output_type": "stream",
     "text": [
      "Logistic Regression\n",
      "L1 with liblinear: None\n",
      "L2 with newton-cg: None\n",
      "L2 with lbfgs: None\n",
      "L2 with sag: None\n",
      "\n",
      "SGD\n",
      "hinge_with_l2: None\n",
      "hinge_with_l1: None\n",
      "hinge_with_elasticnet: None\n",
      "log_with_elasticnet: None\n"
     ]
    }
   ],
   "source": [
    "print('Logistic Regression')\n",
    "for key, values in lr_combinations.items():\n",
    "    print(f\"{key}: {values['score']}\")\n",
    "\n",
    "print('\\nSGD')\n",
    "for key, values in sgd_combinations.items():\n",
    "    print(f\"{key}: {values['score']}\")"
   ]
  },
  {
   "cell_type": "code",
   "execution_count": 34,
   "metadata": {},
   "outputs": [
    {
     "data": {
      "image/png": "[encoded data removed]",
      "text/plain": [
       "<Figure size 640x480 with 2 Axes>"
      ]
     },
     "metadata": {},
     "output_type": "display_data"
    }
   ],
   "source": [
    "cm = confusion_matrix(y_test21, y_pred1, labels= lr1.classes_)\n",
    "fig = ConfusionMatrixDisplay(confusion_matrix= cm, display_labels= lr1.classes_)\n",
    "fig.plot()\n",
    "plt.show()"
   ]
  },
  {
   "cell_type": "code",
   "execution_count": 37,
   "metadata": {},
   "outputs": [
    {
     "data": {
      "image/png": "[encoded data removed]",
      "text/plain": [
       "<Figure size 640x480 with 2 Axes>"
      ]
     },
     "metadata": {},
     "output_type": "display_data"
    }
   ],
   "source": [
    "cm = confusion_matrix(y_test8, y_pred8, labels= lr8.classes_)\n",
    "fig = ConfusionMatrixDisplay(confusion_matrix= cm, display_labels= lr8.classes_)\n",
    "fig.plot()\n",
    "plt.show()"
   ]
  }
 ],
 "metadata": {
  "kernelspec": {
   "display_name": "Python 3",
   "language": "python",
   "name": "python3"
  },
  "language_info": {
   "codemirror_mode": {
    "name": "ipython",
    "version": 3
   },
   "file_extension": ".py",
   "mimetype": "text/x-python",
   "name": "python",
   "nbconvert_exporter": "python",
   "pygments_lexer": "ipython3",
   "version": "3.10.11"
  }
 },
 "nbformat": 4,
 "nbformat_minor": 2
}
